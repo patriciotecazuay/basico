{
  "nbformat": 4,
  "nbformat_minor": 0,
  "metadata": {
    "colab": {
      "provenance": [],
      "include_colab_link": true
    },
    "kernelspec": {
      "name": "python3",
      "display_name": "Python 3"
    },
    "language_info": {
      "name": "python"
    }
  },
  "cells": [
    {
      "cell_type": "markdown",
      "metadata": {
        "id": "view-in-github",
        "colab_type": "text"
      },
      "source": [
        "<a href=\"https://colab.research.google.com/github/patriciotecazuay/basico/blob/main/ADM_cuarta_parte_cargando_los_dataframes_de_experimentos.ipynb\" target=\"_parent\"><img src=\"https://colab.research.google.com/assets/colab-badge.svg\" alt=\"Open In Colab\"/></a>"
      ]
    },
    {
      "cell_type": "markdown",
      "metadata": {
        "id": "dp9pC5k_5v8Y"
      },
      "source": [
        "En los notebooks anteriores aprendimos sobre cómo crear dataframes y usarlos para limpiar nuestros datos, entre otras cosas.\n",
        "\n",
        "Ahora vamos a ver cómo crear un dataframe a partir de un archivo csv. Para eso, vamos a usar un ejemplo con datos descargados del SRI\n",
        "\n",
        "\n"
      ]
    },
    {
      "cell_type": "code",
      "metadata": {
        "colab": {
          "base_uri": "https://localhost:8080/"
        },
        "id": "Um7REjOA5rHC",
        "outputId": "f311d775-61ba-4132-dc33-0eb8518d39c9"
      },
      "source": [
        "import pandas as pd\n",
        "from google.colab import drive\n",
        "drive.mount('/content/drive', force_remount=True)\n",
        "\n",
        "filename = '/content/drive/My Drive/ISTA/MATERIAS/BIGDATA/PRACTICA/SRI_RUC_Canar.csv' \n",
        "\n",
        "df = pd.read_csv(filename, delimiter='|',encoding='latin-1')"
      ],
      "execution_count": 1,
      "outputs": [
        {
          "output_type": "stream",
          "name": "stdout",
          "text": [
            "Mounted at /content/drive\n"
          ]
        }
      ]
    },
    {
      "cell_type": "markdown",
      "metadata": {
        "id": "qgk9EJJT81Tz"
      },
      "source": [
        "Es importante familiarizarnos con el csv. Otras opciones útiles incluyen ignorar el header (es decir, si los nombres de las columnas no están en el csv), o bien cargar el dataframe de a pedazos (si resultase demasiado grande para la memoria de la computadora en la que estamos trabajando).\n",
        "\n",
        "Algunas de las columnas importantes son las siguientes:\n",
        "\n",
        "NUMERO_RUC,\tRAZON_SOCIAL,\tNOMBRE_COMERCIAL,\tTIPO_CONTRIBUYENTE,ACTIVIDAD_ECONOMICA\n",
        "\n",
        "Que son las mas representativas.\n",
        "\n",
        "Seleccionemos estas columnas."
      ]
    },
    {
      "cell_type": "code",
      "metadata": {
        "id": "etdJ4ooD9qwF",
        "colab": {
          "base_uri": "https://localhost:8080/",
          "height": 218
        },
        "outputId": "794c3675-2cbc-4de9-cc16-bac09a3a5987"
      },
      "source": [
        "columnas = list(df.columns[1:3]) + list(df.columns[5:6]) + ['NUMERO_RUC']\n",
        "df_sri = df[columnas]\n",
        "print(df_sri)\n",
        "print(df.columnas)"
      ],
      "execution_count": 1,
      "outputs": [
        {
          "output_type": "error",
          "ename": "NameError",
          "evalue": "ignored",
          "traceback": [
            "\u001b[0;31m---------------------------------------------------------------------------\u001b[0m",
            "\u001b[0;31mNameError\u001b[0m                                 Traceback (most recent call last)",
            "\u001b[0;32m<ipython-input-1-46eff7eb78c8>\u001b[0m in \u001b[0;36m<cell line: 1>\u001b[0;34m()\u001b[0m\n\u001b[0;32m----> 1\u001b[0;31m \u001b[0mcolumnas\u001b[0m \u001b[0;34m=\u001b[0m \u001b[0mlist\u001b[0m\u001b[0;34m(\u001b[0m\u001b[0mdf\u001b[0m\u001b[0;34m.\u001b[0m\u001b[0mcolumns\u001b[0m\u001b[0;34m[\u001b[0m\u001b[0;36m1\u001b[0m\u001b[0;34m:\u001b[0m\u001b[0;36m3\u001b[0m\u001b[0;34m]\u001b[0m\u001b[0;34m)\u001b[0m \u001b[0;34m+\u001b[0m \u001b[0mlist\u001b[0m\u001b[0;34m(\u001b[0m\u001b[0mdf\u001b[0m\u001b[0;34m.\u001b[0m\u001b[0mcolumns\u001b[0m\u001b[0;34m[\u001b[0m\u001b[0;36m5\u001b[0m\u001b[0;34m:\u001b[0m\u001b[0;36m6\u001b[0m\u001b[0;34m]\u001b[0m\u001b[0;34m)\u001b[0m \u001b[0;34m+\u001b[0m \u001b[0;34m[\u001b[0m\u001b[0;34m'NUMERO_RUC'\u001b[0m\u001b[0;34m]\u001b[0m\u001b[0;34m\u001b[0m\u001b[0;34m\u001b[0m\u001b[0m\n\u001b[0m\u001b[1;32m      2\u001b[0m \u001b[0mdf_sri\u001b[0m \u001b[0;34m=\u001b[0m \u001b[0mdf\u001b[0m\u001b[0;34m[\u001b[0m\u001b[0mcolumnas\u001b[0m\u001b[0;34m]\u001b[0m\u001b[0;34m\u001b[0m\u001b[0;34m\u001b[0m\u001b[0m\n\u001b[1;32m      3\u001b[0m \u001b[0mprint\u001b[0m\u001b[0;34m(\u001b[0m\u001b[0mdf_sri\u001b[0m\u001b[0;34m)\u001b[0m\u001b[0;34m\u001b[0m\u001b[0;34m\u001b[0m\u001b[0m\n\u001b[1;32m      4\u001b[0m \u001b[0mprint\u001b[0m\u001b[0;34m(\u001b[0m\u001b[0mdf\u001b[0m\u001b[0;34m.\u001b[0m\u001b[0mcolumnas\u001b[0m\u001b[0;34m)\u001b[0m\u001b[0;34m\u001b[0m\u001b[0;34m\u001b[0m\u001b[0m\n",
            "\u001b[0;31mNameError\u001b[0m: name 'df' is not defined"
          ]
        }
      ]
    },
    {
      "cell_type": "markdown",
      "metadata": {
        "id": "bqWhjpUZ-kRh"
      },
      "source": [
        "Ahora vamos a aplicar los ejemplos realizados en el ejercicio anterior\n"
      ]
    },
    {
      "cell_type": "markdown",
      "metadata": {
        "id": "vGoIB1K-F2DM"
      },
      "source": [
        "Exito!"
      ]
    }
  ]
}