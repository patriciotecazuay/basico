{
  "nbformat": 4,
  "nbformat_minor": 0,
  "metadata": {
    "colab": {
      "provenance": [],
      "include_colab_link": true
    },
    "kernelspec": {
      "name": "python3",
      "display_name": "Python 3"
    },
    "language_info": {
      "name": "python"
    }
  },
  "cells": [
    {
      "cell_type": "markdown",
      "metadata": {
        "id": "view-in-github",
        "colab_type": "text"
      },
      "source": [
        "<a href=\"https://colab.research.google.com/github/patriciotecazuay/basico/blob/main/Copia_de_LACONEU_2023_Clase_2%2C_tercera_parte_dataframes_de_Pandas.ipynb\" target=\"_parent\"><img src=\"https://colab.research.google.com/assets/colab-badge.svg\" alt=\"Open In Colab\"/></a>"
      ]
    },
    {
      "cell_type": "markdown",
      "metadata": {
        "id": "h6VIR_Bse4Da"
      },
      "source": [
        "El tipo de datos que más frecuentemente vamos a utilizar en la materia es el dataframes de Pandas. Un dataframe esencialmente es una tabla con columnas y filas indexadas, de forma tal que podemos acceder fácilmente a filas mediante el índice. También podemos unir, separar o filtrar dataframes trabajando sobre el índice. En general, los dataframes le van a resultar bastante familiares a quienes sepan SQL (algo que van a ver más adelante en la carrera - quizás).\n",
        "\n",
        "Los dataframes pueden tener datos no heterogéneos y además son objetos con métodos útiles para extraer información de forma rápida (por ejemplo, computar histogramas de valores). También es posible convertirlos a arrays de Numpy si así lo necesitamos, aunque no lo vamos a hacer a menos que sea realmente necesario.\n",
        "\n",
        "Una forma de construir dataframes es a partir de diccionarios, de forma tal que asignamos una lista a cada llave, que representa una columna del dataframe:"
      ]
    },
    {
      "cell_type": "code",
      "metadata": {
        "id": "UTnOMmL1fwzk",
        "colab": {
          "base_uri": "https://localhost:8080/",
          "height": 206
        },
        "outputId": "f62dbe78-c4c0-4be4-a12a-3d1757bced1a"
      },
      "source": [
        "datos = {'alumno': ['Zutano', 'Mengano', 'Pepe' ,'Fulanito, Cosme', 'Maria'], 'primer parcial': [7, 8,7,4, 10], 'segundo parcial': [10,9,4,10,10], 'observaciones':['ninguna','libre','ninguna','libre','oyente'], 'DNI':[23000000, 12389100, 99999, 1001,30406011]}\n",
        "\n",
        "import pandas as pd\n",
        "\n",
        "df = pd.DataFrame(datos)\n",
        "\n",
        "df\n",
        "\n"
      ],
      "execution_count": 3,
      "outputs": [
        {
          "output_type": "execute_result",
          "data": {
            "text/plain": [
              "            alumno  primer parcial  segundo parcial observaciones       DNI\n",
              "0           Zutano               7               10       ninguna  23000000\n",
              "1          Mengano               8                9         libre  12389100\n",
              "2             Pepe               7                4       ninguna     99999\n",
              "3  Fulanito, Cosme               4               10         libre      1001\n",
              "4            Maria              10               10        oyente  30406011"
            ],
            "text/html": [
              "\n",
              "  <div id=\"df-467ce4fb-5f65-4513-9fed-2beb548c7743\">\n",
              "    <div class=\"colab-df-container\">\n",
              "      <div>\n",
              "<style scoped>\n",
              "    .dataframe tbody tr th:only-of-type {\n",
              "        vertical-align: middle;\n",
              "    }\n",
              "\n",
              "    .dataframe tbody tr th {\n",
              "        vertical-align: top;\n",
              "    }\n",
              "\n",
              "    .dataframe thead th {\n",
              "        text-align: right;\n",
              "    }\n",
              "</style>\n",
              "<table border=\"1\" class=\"dataframe\">\n",
              "  <thead>\n",
              "    <tr style=\"text-align: right;\">\n",
              "      <th></th>\n",
              "      <th>alumno</th>\n",
              "      <th>primer parcial</th>\n",
              "      <th>segundo parcial</th>\n",
              "      <th>observaciones</th>\n",
              "      <th>DNI</th>\n",
              "    </tr>\n",
              "  </thead>\n",
              "  <tbody>\n",
              "    <tr>\n",
              "      <th>0</th>\n",
              "      <td>Zutano</td>\n",
              "      <td>7</td>\n",
              "      <td>10</td>\n",
              "      <td>ninguna</td>\n",
              "      <td>23000000</td>\n",
              "    </tr>\n",
              "    <tr>\n",
              "      <th>1</th>\n",
              "      <td>Mengano</td>\n",
              "      <td>8</td>\n",
              "      <td>9</td>\n",
              "      <td>libre</td>\n",
              "      <td>12389100</td>\n",
              "    </tr>\n",
              "    <tr>\n",
              "      <th>2</th>\n",
              "      <td>Pepe</td>\n",
              "      <td>7</td>\n",
              "      <td>4</td>\n",
              "      <td>ninguna</td>\n",
              "      <td>99999</td>\n",
              "    </tr>\n",
              "    <tr>\n",
              "      <th>3</th>\n",
              "      <td>Fulanito, Cosme</td>\n",
              "      <td>4</td>\n",
              "      <td>10</td>\n",
              "      <td>libre</td>\n",
              "      <td>1001</td>\n",
              "    </tr>\n",
              "    <tr>\n",
              "      <th>4</th>\n",
              "      <td>Maria</td>\n",
              "      <td>10</td>\n",
              "      <td>10</td>\n",
              "      <td>oyente</td>\n",
              "      <td>30406011</td>\n",
              "    </tr>\n",
              "  </tbody>\n",
              "</table>\n",
              "</div>\n",
              "      <button class=\"colab-df-convert\" onclick=\"convertToInteractive('df-467ce4fb-5f65-4513-9fed-2beb548c7743')\"\n",
              "              title=\"Convert this dataframe to an interactive table.\"\n",
              "              style=\"display:none;\">\n",
              "        \n",
              "  <svg xmlns=\"http://www.w3.org/2000/svg\" height=\"24px\"viewBox=\"0 0 24 24\"\n",
              "       width=\"24px\">\n",
              "    <path d=\"M0 0h24v24H0V0z\" fill=\"none\"/>\n",
              "    <path d=\"M18.56 5.44l.94 2.06.94-2.06 2.06-.94-2.06-.94-.94-2.06-.94 2.06-2.06.94zm-11 1L8.5 8.5l.94-2.06 2.06-.94-2.06-.94L8.5 2.5l-.94 2.06-2.06.94zm10 10l.94 2.06.94-2.06 2.06-.94-2.06-.94-.94-2.06-.94 2.06-2.06.94z\"/><path d=\"M17.41 7.96l-1.37-1.37c-.4-.4-.92-.59-1.43-.59-.52 0-1.04.2-1.43.59L10.3 9.45l-7.72 7.72c-.78.78-.78 2.05 0 2.83L4 21.41c.39.39.9.59 1.41.59.51 0 1.02-.2 1.41-.59l7.78-7.78 2.81-2.81c.8-.78.8-2.07 0-2.86zM5.41 20L4 18.59l7.72-7.72 1.47 1.35L5.41 20z\"/>\n",
              "  </svg>\n",
              "      </button>\n",
              "      \n",
              "  <style>\n",
              "    .colab-df-container {\n",
              "      display:flex;\n",
              "      flex-wrap:wrap;\n",
              "      gap: 12px;\n",
              "    }\n",
              "\n",
              "    .colab-df-convert {\n",
              "      background-color: #E8F0FE;\n",
              "      border: none;\n",
              "      border-radius: 50%;\n",
              "      cursor: pointer;\n",
              "      display: none;\n",
              "      fill: #1967D2;\n",
              "      height: 32px;\n",
              "      padding: 0 0 0 0;\n",
              "      width: 32px;\n",
              "    }\n",
              "\n",
              "    .colab-df-convert:hover {\n",
              "      background-color: #E2EBFA;\n",
              "      box-shadow: 0px 1px 2px rgba(60, 64, 67, 0.3), 0px 1px 3px 1px rgba(60, 64, 67, 0.15);\n",
              "      fill: #174EA6;\n",
              "    }\n",
              "\n",
              "    [theme=dark] .colab-df-convert {\n",
              "      background-color: #3B4455;\n",
              "      fill: #D2E3FC;\n",
              "    }\n",
              "\n",
              "    [theme=dark] .colab-df-convert:hover {\n",
              "      background-color: #434B5C;\n",
              "      box-shadow: 0px 1px 3px 1px rgba(0, 0, 0, 0.15);\n",
              "      filter: drop-shadow(0px 1px 2px rgba(0, 0, 0, 0.3));\n",
              "      fill: #FFFFFF;\n",
              "    }\n",
              "  </style>\n",
              "\n",
              "      <script>\n",
              "        const buttonEl =\n",
              "          document.querySelector('#df-467ce4fb-5f65-4513-9fed-2beb548c7743 button.colab-df-convert');\n",
              "        buttonEl.style.display =\n",
              "          google.colab.kernel.accessAllowed ? 'block' : 'none';\n",
              "\n",
              "        async function convertToInteractive(key) {\n",
              "          const element = document.querySelector('#df-467ce4fb-5f65-4513-9fed-2beb548c7743');\n",
              "          const dataTable =\n",
              "            await google.colab.kernel.invokeFunction('convertToInteractive',\n",
              "                                                     [key], {});\n",
              "          if (!dataTable) return;\n",
              "\n",
              "          const docLinkHtml = 'Like what you see? Visit the ' +\n",
              "            '<a target=\"_blank\" href=https://colab.research.google.com/notebooks/data_table.ipynb>data table notebook</a>'\n",
              "            + ' to learn more about interactive tables.';\n",
              "          element.innerHTML = '';\n",
              "          dataTable['output_type'] = 'display_data';\n",
              "          await google.colab.output.renderOutput(dataTable, element);\n",
              "          const docLink = document.createElement('div');\n",
              "          docLink.innerHTML = docLinkHtml;\n",
              "          element.appendChild(docLink);\n",
              "        }\n",
              "      </script>\n",
              "    </div>\n",
              "  </div>\n",
              "  "
            ]
          },
          "metadata": {},
          "execution_count": 3
        }
      ]
    },
    {
      "cell_type": "markdown",
      "metadata": {
        "id": "73qDar6Fheiq"
      },
      "source": [
        "Vemos que las filas están identificadas con números (0,1,2). Esos números corresponden al índice (index). Podemos obtener las columnas y el índice de un dataframe como listas usando los siguientes métodos:"
      ]
    },
    {
      "cell_type": "code",
      "metadata": {
        "id": "bDeC-TeohrLQ",
        "colab": {
          "base_uri": "https://localhost:8080/"
        },
        "outputId": "df2b9dcf-1a35-4d6a-dcbc-aa1db2b662bc"
      },
      "source": [
        "print(list(df.columns))\n",
        "print(list(df.index))"
      ],
      "execution_count": 4,
      "outputs": [
        {
          "output_type": "stream",
          "name": "stdout",
          "text": [
            "['alumno', 'primer parcial', 'segundo parcial', 'observaciones', 'DNI']\n",
            "[0, 1, 2, 3, 4]\n"
          ]
        }
      ]
    },
    {
      "cell_type": "markdown",
      "metadata": {
        "id": "tiYkgnvWh2ca"
      },
      "source": [
        "Podemos ademas seleccionar una columna del dataframe como si se tratase de un diccionario. El objeto resultante se llama \"series\":"
      ]
    },
    {
      "cell_type": "code",
      "metadata": {
        "id": "4imHlYmph8vC",
        "colab": {
          "base_uri": "https://localhost:8080/"
        },
        "outputId": "bbfa61a2-53e3-47be-fc7e-1cdfc802d787"
      },
      "source": [
        "print(type(df))\n",
        "print(df['primer parcial'])\n",
        "print(type(df['primer parcial']))"
      ],
      "execution_count": 5,
      "outputs": [
        {
          "output_type": "stream",
          "name": "stdout",
          "text": [
            "<class 'pandas.core.frame.DataFrame'>\n",
            "0     7\n",
            "1     8\n",
            "2     7\n",
            "3     4\n",
            "4    10\n",
            "Name: primer parcial, dtype: int64\n",
            "<class 'pandas.core.series.Series'>\n"
          ]
        }
      ]
    },
    {
      "cell_type": "markdown",
      "metadata": {
        "id": "hQYOPTkliK8D"
      },
      "source": [
        "Para obtener files en vez de columnas, podemos usar el método df.loc con una lista de los índices que queremos acceder:"
      ]
    },
    {
      "cell_type": "code",
      "metadata": {
        "id": "M3UEsKisi8pz",
        "colab": {
          "base_uri": "https://localhost:8080/"
        },
        "outputId": "20c85adc-430c-4af9-a07a-7eae505872cd"
      },
      "source": [
        "df.loc[2]"
      ],
      "execution_count": 6,
      "outputs": [
        {
          "output_type": "execute_result",
          "data": {
            "text/plain": [
              "alumno                Pepe\n",
              "primer parcial           7\n",
              "segundo parcial          4\n",
              "observaciones      ninguna\n",
              "DNI                  99999\n",
              "Name: 2, dtype: object"
            ]
          },
          "metadata": {},
          "execution_count": 6
        }
      ]
    },
    {
      "cell_type": "markdown",
      "metadata": {
        "id": "fz1Dhy5Lnvit"
      },
      "source": [
        "O bien:"
      ]
    },
    {
      "cell_type": "code",
      "metadata": {
        "id": "wlBDS5UInzuA",
        "colab": {
          "base_uri": "https://localhost:8080/",
          "height": 143
        },
        "outputId": "5f756763-4e55-4a5a-c277-f56ce4050b98"
      },
      "source": [
        "df.loc[2:4]\n"
      ],
      "execution_count": 7,
      "outputs": [
        {
          "output_type": "execute_result",
          "data": {
            "text/plain": [
              "            alumno  primer parcial  segundo parcial observaciones       DNI\n",
              "2             Pepe               7                4       ninguna     99999\n",
              "3  Fulanito, Cosme               4               10         libre      1001\n",
              "4            Maria              10               10        oyente  30406011"
            ],
            "text/html": [
              "\n",
              "  <div id=\"df-39d54a03-ff7e-4b0e-9bbb-c889b1d04f3b\">\n",
              "    <div class=\"colab-df-container\">\n",
              "      <div>\n",
              "<style scoped>\n",
              "    .dataframe tbody tr th:only-of-type {\n",
              "        vertical-align: middle;\n",
              "    }\n",
              "\n",
              "    .dataframe tbody tr th {\n",
              "        vertical-align: top;\n",
              "    }\n",
              "\n",
              "    .dataframe thead th {\n",
              "        text-align: right;\n",
              "    }\n",
              "</style>\n",
              "<table border=\"1\" class=\"dataframe\">\n",
              "  <thead>\n",
              "    <tr style=\"text-align: right;\">\n",
              "      <th></th>\n",
              "      <th>alumno</th>\n",
              "      <th>primer parcial</th>\n",
              "      <th>segundo parcial</th>\n",
              "      <th>observaciones</th>\n",
              "      <th>DNI</th>\n",
              "    </tr>\n",
              "  </thead>\n",
              "  <tbody>\n",
              "    <tr>\n",
              "      <th>2</th>\n",
              "      <td>Pepe</td>\n",
              "      <td>7</td>\n",
              "      <td>4</td>\n",
              "      <td>ninguna</td>\n",
              "      <td>99999</td>\n",
              "    </tr>\n",
              "    <tr>\n",
              "      <th>3</th>\n",
              "      <td>Fulanito, Cosme</td>\n",
              "      <td>4</td>\n",
              "      <td>10</td>\n",
              "      <td>libre</td>\n",
              "      <td>1001</td>\n",
              "    </tr>\n",
              "    <tr>\n",
              "      <th>4</th>\n",
              "      <td>Maria</td>\n",
              "      <td>10</td>\n",
              "      <td>10</td>\n",
              "      <td>oyente</td>\n",
              "      <td>30406011</td>\n",
              "    </tr>\n",
              "  </tbody>\n",
              "</table>\n",
              "</div>\n",
              "      <button class=\"colab-df-convert\" onclick=\"convertToInteractive('df-39d54a03-ff7e-4b0e-9bbb-c889b1d04f3b')\"\n",
              "              title=\"Convert this dataframe to an interactive table.\"\n",
              "              style=\"display:none;\">\n",
              "        \n",
              "  <svg xmlns=\"http://www.w3.org/2000/svg\" height=\"24px\"viewBox=\"0 0 24 24\"\n",
              "       width=\"24px\">\n",
              "    <path d=\"M0 0h24v24H0V0z\" fill=\"none\"/>\n",
              "    <path d=\"M18.56 5.44l.94 2.06.94-2.06 2.06-.94-2.06-.94-.94-2.06-.94 2.06-2.06.94zm-11 1L8.5 8.5l.94-2.06 2.06-.94-2.06-.94L8.5 2.5l-.94 2.06-2.06.94zm10 10l.94 2.06.94-2.06 2.06-.94-2.06-.94-.94-2.06-.94 2.06-2.06.94z\"/><path d=\"M17.41 7.96l-1.37-1.37c-.4-.4-.92-.59-1.43-.59-.52 0-1.04.2-1.43.59L10.3 9.45l-7.72 7.72c-.78.78-.78 2.05 0 2.83L4 21.41c.39.39.9.59 1.41.59.51 0 1.02-.2 1.41-.59l7.78-7.78 2.81-2.81c.8-.78.8-2.07 0-2.86zM5.41 20L4 18.59l7.72-7.72 1.47 1.35L5.41 20z\"/>\n",
              "  </svg>\n",
              "      </button>\n",
              "      \n",
              "  <style>\n",
              "    .colab-df-container {\n",
              "      display:flex;\n",
              "      flex-wrap:wrap;\n",
              "      gap: 12px;\n",
              "    }\n",
              "\n",
              "    .colab-df-convert {\n",
              "      background-color: #E8F0FE;\n",
              "      border: none;\n",
              "      border-radius: 50%;\n",
              "      cursor: pointer;\n",
              "      display: none;\n",
              "      fill: #1967D2;\n",
              "      height: 32px;\n",
              "      padding: 0 0 0 0;\n",
              "      width: 32px;\n",
              "    }\n",
              "\n",
              "    .colab-df-convert:hover {\n",
              "      background-color: #E2EBFA;\n",
              "      box-shadow: 0px 1px 2px rgba(60, 64, 67, 0.3), 0px 1px 3px 1px rgba(60, 64, 67, 0.15);\n",
              "      fill: #174EA6;\n",
              "    }\n",
              "\n",
              "    [theme=dark] .colab-df-convert {\n",
              "      background-color: #3B4455;\n",
              "      fill: #D2E3FC;\n",
              "    }\n",
              "\n",
              "    [theme=dark] .colab-df-convert:hover {\n",
              "      background-color: #434B5C;\n",
              "      box-shadow: 0px 1px 3px 1px rgba(0, 0, 0, 0.15);\n",
              "      filter: drop-shadow(0px 1px 2px rgba(0, 0, 0, 0.3));\n",
              "      fill: #FFFFFF;\n",
              "    }\n",
              "  </style>\n",
              "\n",
              "      <script>\n",
              "        const buttonEl =\n",
              "          document.querySelector('#df-39d54a03-ff7e-4b0e-9bbb-c889b1d04f3b button.colab-df-convert');\n",
              "        buttonEl.style.display =\n",
              "          google.colab.kernel.accessAllowed ? 'block' : 'none';\n",
              "\n",
              "        async function convertToInteractive(key) {\n",
              "          const element = document.querySelector('#df-39d54a03-ff7e-4b0e-9bbb-c889b1d04f3b');\n",
              "          const dataTable =\n",
              "            await google.colab.kernel.invokeFunction('convertToInteractive',\n",
              "                                                     [key], {});\n",
              "          if (!dataTable) return;\n",
              "\n",
              "          const docLinkHtml = 'Like what you see? Visit the ' +\n",
              "            '<a target=\"_blank\" href=https://colab.research.google.com/notebooks/data_table.ipynb>data table notebook</a>'\n",
              "            + ' to learn more about interactive tables.';\n",
              "          element.innerHTML = '';\n",
              "          dataTable['output_type'] = 'display_data';\n",
              "          await google.colab.output.renderOutput(dataTable, element);\n",
              "          const docLink = document.createElement('div');\n",
              "          docLink.innerHTML = docLinkHtml;\n",
              "          element.appendChild(docLink);\n",
              "        }\n",
              "      </script>\n",
              "    </div>\n",
              "  </div>\n",
              "  "
            ]
          },
          "metadata": {},
          "execution_count": 7
        }
      ]
    },
    {
      "cell_type": "markdown",
      "metadata": {
        "id": "DxUNPRXuoN92"
      },
      "source": [
        "Podríamos haber querido otro índice en vez de [0,1,2,...] para nuestro dataframe. En ese caso, le agregamos el parámetro index a la hora de crearlo:"
      ]
    },
    {
      "cell_type": "code",
      "metadata": {
        "id": "xhUvDoaLocjG",
        "colab": {
          "base_uri": "https://localhost:8080/"
        },
        "outputId": "2722463f-d732-4130-d4d2-a28f9e79b130"
      },
      "source": [
        "datos = {'alumno': ['Zutano', 'Mengano', 'Pepe' ,'Fulanito, Cosme', 'Maria'], 'primer parcial': [7, 8,7,4, 10], 'segundo parcial': [10,9,4,10,10], 'observaciones':['ninguna','libre','ninguna','libre','oyente'], 'DNI':[23000000, 12389100, 99999, 1001,30406011]}\n",
        "df = pd.DataFrame(datos, index=[1,2,3,4,5])\n",
        "df.loc[1]\n",
        "print(df)"
      ],
      "execution_count": 8,
      "outputs": [
        {
          "output_type": "stream",
          "name": "stdout",
          "text": [
            "            alumno  primer parcial  segundo parcial observaciones       DNI\n",
            "1           Zutano               7               10       ninguna  23000000\n",
            "2          Mengano               8                9         libre  12389100\n",
            "3             Pepe               7                4       ninguna     99999\n",
            "4  Fulanito, Cosme               4               10         libre      1001\n",
            "5            Maria              10               10        oyente  30406011\n"
          ]
        }
      ]
    },
    {
      "cell_type": "markdown",
      "metadata": {
        "id": "0ykLaX2FozIv"
      },
      "source": [
        "Y el proceso de ubicar filas es igual al anterior:"
      ]
    },
    {
      "cell_type": "code",
      "metadata": {
        "id": "rl3U5YPso4L0",
        "colab": {
          "base_uri": "https://localhost:8080/",
          "height": 112
        },
        "outputId": "6ee35f09-b6d1-4989-c256-43f258334da9"
      },
      "source": [
        "df.loc[[2,4]]"
      ],
      "execution_count": 9,
      "outputs": [
        {
          "output_type": "execute_result",
          "data": {
            "text/plain": [
              "            alumno  primer parcial  segundo parcial observaciones       DNI\n",
              "2          Mengano               8                9         libre  12389100\n",
              "4  Fulanito, Cosme               4               10         libre      1001"
            ],
            "text/html": [
              "\n",
              "  <div id=\"df-1e85e2ff-c3ca-4c8a-91be-9094a5b2d382\">\n",
              "    <div class=\"colab-df-container\">\n",
              "      <div>\n",
              "<style scoped>\n",
              "    .dataframe tbody tr th:only-of-type {\n",
              "        vertical-align: middle;\n",
              "    }\n",
              "\n",
              "    .dataframe tbody tr th {\n",
              "        vertical-align: top;\n",
              "    }\n",
              "\n",
              "    .dataframe thead th {\n",
              "        text-align: right;\n",
              "    }\n",
              "</style>\n",
              "<table border=\"1\" class=\"dataframe\">\n",
              "  <thead>\n",
              "    <tr style=\"text-align: right;\">\n",
              "      <th></th>\n",
              "      <th>alumno</th>\n",
              "      <th>primer parcial</th>\n",
              "      <th>segundo parcial</th>\n",
              "      <th>observaciones</th>\n",
              "      <th>DNI</th>\n",
              "    </tr>\n",
              "  </thead>\n",
              "  <tbody>\n",
              "    <tr>\n",
              "      <th>2</th>\n",
              "      <td>Mengano</td>\n",
              "      <td>8</td>\n",
              "      <td>9</td>\n",
              "      <td>libre</td>\n",
              "      <td>12389100</td>\n",
              "    </tr>\n",
              "    <tr>\n",
              "      <th>4</th>\n",
              "      <td>Fulanito, Cosme</td>\n",
              "      <td>4</td>\n",
              "      <td>10</td>\n",
              "      <td>libre</td>\n",
              "      <td>1001</td>\n",
              "    </tr>\n",
              "  </tbody>\n",
              "</table>\n",
              "</div>\n",
              "      <button class=\"colab-df-convert\" onclick=\"convertToInteractive('df-1e85e2ff-c3ca-4c8a-91be-9094a5b2d382')\"\n",
              "              title=\"Convert this dataframe to an interactive table.\"\n",
              "              style=\"display:none;\">\n",
              "        \n",
              "  <svg xmlns=\"http://www.w3.org/2000/svg\" height=\"24px\"viewBox=\"0 0 24 24\"\n",
              "       width=\"24px\">\n",
              "    <path d=\"M0 0h24v24H0V0z\" fill=\"none\"/>\n",
              "    <path d=\"M18.56 5.44l.94 2.06.94-2.06 2.06-.94-2.06-.94-.94-2.06-.94 2.06-2.06.94zm-11 1L8.5 8.5l.94-2.06 2.06-.94-2.06-.94L8.5 2.5l-.94 2.06-2.06.94zm10 10l.94 2.06.94-2.06 2.06-.94-2.06-.94-.94-2.06-.94 2.06-2.06.94z\"/><path d=\"M17.41 7.96l-1.37-1.37c-.4-.4-.92-.59-1.43-.59-.52 0-1.04.2-1.43.59L10.3 9.45l-7.72 7.72c-.78.78-.78 2.05 0 2.83L4 21.41c.39.39.9.59 1.41.59.51 0 1.02-.2 1.41-.59l7.78-7.78 2.81-2.81c.8-.78.8-2.07 0-2.86zM5.41 20L4 18.59l7.72-7.72 1.47 1.35L5.41 20z\"/>\n",
              "  </svg>\n",
              "      </button>\n",
              "      \n",
              "  <style>\n",
              "    .colab-df-container {\n",
              "      display:flex;\n",
              "      flex-wrap:wrap;\n",
              "      gap: 12px;\n",
              "    }\n",
              "\n",
              "    .colab-df-convert {\n",
              "      background-color: #E8F0FE;\n",
              "      border: none;\n",
              "      border-radius: 50%;\n",
              "      cursor: pointer;\n",
              "      display: none;\n",
              "      fill: #1967D2;\n",
              "      height: 32px;\n",
              "      padding: 0 0 0 0;\n",
              "      width: 32px;\n",
              "    }\n",
              "\n",
              "    .colab-df-convert:hover {\n",
              "      background-color: #E2EBFA;\n",
              "      box-shadow: 0px 1px 2px rgba(60, 64, 67, 0.3), 0px 1px 3px 1px rgba(60, 64, 67, 0.15);\n",
              "      fill: #174EA6;\n",
              "    }\n",
              "\n",
              "    [theme=dark] .colab-df-convert {\n",
              "      background-color: #3B4455;\n",
              "      fill: #D2E3FC;\n",
              "    }\n",
              "\n",
              "    [theme=dark] .colab-df-convert:hover {\n",
              "      background-color: #434B5C;\n",
              "      box-shadow: 0px 1px 3px 1px rgba(0, 0, 0, 0.15);\n",
              "      filter: drop-shadow(0px 1px 2px rgba(0, 0, 0, 0.3));\n",
              "      fill: #FFFFFF;\n",
              "    }\n",
              "  </style>\n",
              "\n",
              "      <script>\n",
              "        const buttonEl =\n",
              "          document.querySelector('#df-1e85e2ff-c3ca-4c8a-91be-9094a5b2d382 button.colab-df-convert');\n",
              "        buttonEl.style.display =\n",
              "          google.colab.kernel.accessAllowed ? 'block' : 'none';\n",
              "\n",
              "        async function convertToInteractive(key) {\n",
              "          const element = document.querySelector('#df-1e85e2ff-c3ca-4c8a-91be-9094a5b2d382');\n",
              "          const dataTable =\n",
              "            await google.colab.kernel.invokeFunction('convertToInteractive',\n",
              "                                                     [key], {});\n",
              "          if (!dataTable) return;\n",
              "\n",
              "          const docLinkHtml = 'Like what you see? Visit the ' +\n",
              "            '<a target=\"_blank\" href=https://colab.research.google.com/notebooks/data_table.ipynb>data table notebook</a>'\n",
              "            + ' to learn more about interactive tables.';\n",
              "          element.innerHTML = '';\n",
              "          dataTable['output_type'] = 'display_data';\n",
              "          await google.colab.output.renderOutput(dataTable, element);\n",
              "          const docLink = document.createElement('div');\n",
              "          docLink.innerHTML = docLinkHtml;\n",
              "          element.appendChild(docLink);\n",
              "        }\n",
              "      </script>\n",
              "    </div>\n",
              "  </div>\n",
              "  "
            ]
          },
          "metadata": {},
          "execution_count": 9
        }
      ]
    },
    {
      "cell_type": "markdown",
      "metadata": {
        "id": "v7mcwNuspsFs"
      },
      "source": [
        "Puede que ya hayamos creado un dataframe y después de hacerlo nos demos cuenta de que una de las columnas tiene más sentido como índice que otra. En ese caso, lo que buscamos es reindexar el dataframe usando los valores de esa columna. En general conviene utilizar como índice algo que sea un identificador único de cada elemento en el dataframe; en este caso, el DNI puede cumplir con esa función.\n"
      ]
    },
    {
      "cell_type": "code",
      "metadata": {
        "id": "LLObt8XMp_03",
        "colab": {
          "base_uri": "https://localhost:8080/"
        },
        "outputId": "dadf10fd-3b19-4f21-ad99-7859157bf280"
      },
      "source": [
        "df_DNI = df.set_index('DNI')\n",
        "print(df_DNI)"
      ],
      "execution_count": 10,
      "outputs": [
        {
          "output_type": "stream",
          "name": "stdout",
          "text": [
            "                   alumno  primer parcial  segundo parcial observaciones\n",
            "DNI                                                                     \n",
            "23000000           Zutano               7               10       ninguna\n",
            "12389100          Mengano               8                9         libre\n",
            "99999                Pepe               7                4       ninguna\n",
            "1001      Fulanito, Cosme               4               10         libre\n",
            "30406011            Maria              10               10        oyente\n"
          ]
        }
      ]
    },
    {
      "cell_type": "markdown",
      "metadata": {
        "id": "SoiqVMq6o80t"
      },
      "source": [
        "Una ventaja del dataframe son los métodos que tiene para la limpieza de datos. Esto es útil si por ejemplo queremos descartar filas o columnas duplicadas o con datos faltantes. Supongamos que tenemos un dataframe en el cual faltan algunos datos (identificados con \"nan\") y algunas de las filas están duplicadas. "
      ]
    },
    {
      "cell_type": "code",
      "metadata": {
        "id": "8A3AvNpIpgAD",
        "colab": {
          "base_uri": "https://localhost:8080/"
        },
        "outputId": "a6c5a99a-1923-4dea-b0d6-010fae0193b8"
      },
      "source": [
        "import numpy as np # necesito numpy para escribir nan\n",
        "datos = {'alumno': ['Zutano', 'Mengano', 'Zutano','Pepe' ,'Fulanito, Cosme', 'Maria'], 'primer parcial': [7, 8,7,7,np.nan, 10], 'segundo parcial': [10,9,10,4,10,np.nan], 'observaciones':['ninguna','libre','ninguna','ninguna','libre','oyente'], 'DNI':[23000000, 12389100,23000000, 99999, 1001,30406011]}\n",
        "df = pd.DataFrame(datos)\n",
        "print(df)\n"
      ],
      "execution_count": 11,
      "outputs": [
        {
          "output_type": "stream",
          "name": "stdout",
          "text": [
            "            alumno  primer parcial  segundo parcial observaciones       DNI\n",
            "0           Zutano             7.0             10.0       ninguna  23000000\n",
            "1          Mengano             8.0              9.0         libre  12389100\n",
            "2           Zutano             7.0             10.0       ninguna  23000000\n",
            "3             Pepe             7.0              4.0       ninguna     99999\n",
            "4  Fulanito, Cosme             NaN             10.0         libre      1001\n",
            "5            Maria            10.0              NaN        oyente  30406011\n"
          ]
        }
      ]
    },
    {
      "cell_type": "markdown",
      "metadata": {
        "id": "UXmLhPJ-rU2m"
      },
      "source": [
        "Eliminamos las columnas que tienen Nan. Para eso usamos el método df.dropna()"
      ]
    },
    {
      "cell_type": "code",
      "metadata": {
        "id": "ETwnI2jsrsqy",
        "colab": {
          "base_uri": "https://localhost:8080/"
        },
        "outputId": "7d803d48-3f68-4cf4-89f8-c02c34804ab2"
      },
      "source": [
        "df_2 = df.dropna()\n",
        "print(df_2)"
      ],
      "execution_count": 12,
      "outputs": [
        {
          "output_type": "stream",
          "name": "stdout",
          "text": [
            "    alumno  primer parcial  segundo parcial observaciones       DNI\n",
            "0   Zutano             7.0             10.0       ninguna  23000000\n",
            "1  Mengano             8.0              9.0         libre  12389100\n",
            "2   Zutano             7.0             10.0       ninguna  23000000\n",
            "3     Pepe             7.0              4.0       ninguna     99999\n"
          ]
        }
      ]
    },
    {
      "cell_type": "markdown",
      "metadata": {
        "id": "4fzXK9Spr1Gv"
      },
      "source": [
        "Observemos que había varias maneras de hacer esto. Por ejemplo, podríamos haber querido eliminar las columnas que tenían un nan, en vez de las filas:"
      ]
    },
    {
      "cell_type": "code",
      "metadata": {
        "id": "jL_jNH-jr8su",
        "colab": {
          "base_uri": "https://localhost:8080/"
        },
        "outputId": "25a1f7d0-de6f-435d-df2f-cc1687b68fdc"
      },
      "source": [
        "df_3 = df.dropna(axis=1)\n",
        "print(df_3)"
      ],
      "execution_count": 13,
      "outputs": [
        {
          "output_type": "stream",
          "name": "stdout",
          "text": [
            "            alumno observaciones       DNI\n",
            "0           Zutano       ninguna  23000000\n",
            "1          Mengano         libre  12389100\n",
            "2           Zutano       ninguna  23000000\n",
            "3             Pepe       ninguna     99999\n",
            "4  Fulanito, Cosme         libre      1001\n",
            "5            Maria        oyente  30406011\n"
          ]
        }
      ]
    },
    {
      "cell_type": "markdown",
      "metadata": {
        "id": "7vHqRR2DsEG4"
      },
      "source": [
        "O podríamos haber querido eliminar las filas que tengan TODOS los valores nan.\n",
        "También podríamos haber específicado un subset de las columnas para verificar si las filas tienen valores nan y removerlas en ese caso."
      ]
    },
    {
      "cell_type": "code",
      "metadata": {
        "id": "VZbajbehsLRN",
        "colab": {
          "base_uri": "https://localhost:8080/"
        },
        "outputId": "18ed477a-d64d-4f4a-b6ec-000453bbfb00"
      },
      "source": [
        "df_4 = df.dropna(how='all')\n",
        "print(df_4)\n",
        "df_5 = df.dropna(subset=['primer parcial','observaciones'])\n",
        "print(df_5)"
      ],
      "execution_count": 14,
      "outputs": [
        {
          "output_type": "stream",
          "name": "stdout",
          "text": [
            "            alumno  primer parcial  segundo parcial observaciones       DNI\n",
            "0           Zutano             7.0             10.0       ninguna  23000000\n",
            "1          Mengano             8.0              9.0         libre  12389100\n",
            "2           Zutano             7.0             10.0       ninguna  23000000\n",
            "3             Pepe             7.0              4.0       ninguna     99999\n",
            "4  Fulanito, Cosme             NaN             10.0         libre      1001\n",
            "5            Maria            10.0              NaN        oyente  30406011\n",
            "    alumno  primer parcial  segundo parcial observaciones       DNI\n",
            "0   Zutano             7.0             10.0       ninguna  23000000\n",
            "1  Mengano             8.0              9.0         libre  12389100\n",
            "2   Zutano             7.0             10.0       ninguna  23000000\n",
            "3     Pepe             7.0              4.0       ninguna     99999\n",
            "5    Maria            10.0              NaN        oyente  30406011\n"
          ]
        }
      ]
    },
    {
      "cell_type": "markdown",
      "metadata": {
        "id": "RGVpxYUcsP2R"
      },
      "source": [
        "En ese caso no removemos ninguna fila, porque ninguna tiene todos sus valores nan. Podemos consultar la documentación de pandas para más opciones (por ejemplo, únicamente eliminar filas que tengan más de N valores iguales a nan).\n",
        "\n",
        "Por último, puede que no queramos crear un dataframe nuevo. En ese caso, hacemos lo siguiente y modificamos el dataframe original:"
      ]
    },
    {
      "cell_type": "code",
      "metadata": {
        "id": "qcfhaj9RsdGr",
        "colab": {
          "base_uri": "https://localhost:8080/"
        },
        "outputId": "e3d6a06e-0946-46a7-c2a0-6b1cff77474c"
      },
      "source": [
        "df.dropna(inplace = True)\n",
        "print(df)"
      ],
      "execution_count": 15,
      "outputs": [
        {
          "output_type": "stream",
          "name": "stdout",
          "text": [
            "    alumno  primer parcial  segundo parcial observaciones       DNI\n",
            "0   Zutano             7.0             10.0       ninguna  23000000\n",
            "1  Mengano             8.0              9.0         libre  12389100\n",
            "2   Zutano             7.0             10.0       ninguna  23000000\n",
            "3     Pepe             7.0              4.0       ninguna     99999\n"
          ]
        }
      ]
    },
    {
      "cell_type": "markdown",
      "metadata": {
        "id": "HX1uWzs6ssAp"
      },
      "source": [
        "Puede que no queramos eliminar las filas o columnas que tienen nan, sino llenar esas entradas usando algun valor fijo, o un promedio de las demás entradas de la fila o la columna. Para eso volvemos a definir el dataframe (porque lo modificamos en el bloque de código anterior) y luego probamos el método df.fillna()"
      ]
    },
    {
      "cell_type": "code",
      "metadata": {
        "id": "DmUVcXV2tGm4",
        "colab": {
          "base_uri": "https://localhost:8080/"
        },
        "outputId": "031939b4-537d-4ab9-bb24-2d8016362157"
      },
      "source": [
        "datos = {'alumno': ['Zutano', 'Mengano', 'Zutano','Pepe' ,'Fulanito, Cosme', 'Maria'], 'primer parcial': [7, 8,7,7,np.nan, 10], 'segundo parcial': [10,9,10,4,10,np.nan], 'observaciones':['ninguna','libre','ninguna','ninguna','libre','oyente'], 'DNI':[23000000, 12389100,23000000, 99999, 1001,30406011]}\n",
        "df = pd.DataFrame(datos)\n",
        "df_2 = df.fillna(10)\n",
        "print(df_2)"
      ],
      "execution_count": 16,
      "outputs": [
        {
          "output_type": "stream",
          "name": "stdout",
          "text": [
            "            alumno  primer parcial  segundo parcial observaciones       DNI\n",
            "0           Zutano             7.0             10.0       ninguna  23000000\n",
            "1          Mengano             8.0              9.0         libre  12389100\n",
            "2           Zutano             7.0             10.0       ninguna  23000000\n",
            "3             Pepe             7.0              4.0       ninguna     99999\n",
            "4  Fulanito, Cosme            10.0             10.0         libre      1001\n",
            "5            Maria            10.0             10.0        oyente  30406011\n"
          ]
        }
      ]
    },
    {
      "cell_type": "markdown",
      "metadata": {
        "id": "4y7Oz8XwtUyq"
      },
      "source": [
        "Esto claramente reeplaza los valores faltantes usando un valor prefijado. Podemos también usar medias o medianas:"
      ]
    },
    {
      "cell_type": "code",
      "metadata": {
        "id": "RE54OjMttZfK",
        "colab": {
          "base_uri": "https://localhost:8080/"
        },
        "outputId": "e60dd11c-7bc8-4de2-9540-18abf68735b1"
      },
      "source": [
        "a = df['primer parcial']\n",
        "print(a)\n",
        "df_3 = df.fillna(a.mean())\n",
        "print(df_3)"
      ],
      "execution_count": 17,
      "outputs": [
        {
          "output_type": "stream",
          "name": "stdout",
          "text": [
            "0     7.0\n",
            "1     8.0\n",
            "2     7.0\n",
            "3     7.0\n",
            "4     NaN\n",
            "5    10.0\n",
            "Name: primer parcial, dtype: float64\n",
            "            alumno  primer parcial  segundo parcial observaciones       DNI\n",
            "0           Zutano             7.0             10.0       ninguna  23000000\n",
            "1          Mengano             8.0              9.0         libre  12389100\n",
            "2           Zutano             7.0             10.0       ninguna  23000000\n",
            "3             Pepe             7.0              4.0       ninguna     99999\n",
            "4  Fulanito, Cosme             7.8             10.0         libre      1001\n",
            "5            Maria            10.0              7.8        oyente  30406011\n"
          ]
        }
      ]
    },
    {
      "cell_type": "markdown",
      "metadata": {
        "id": "oXNg2jIJtvjI"
      },
      "source": [
        "Acá están sucediendo varias cosas. Primero, en a están los valores de la columna 'primer parcial'. Luego, dentro de fillna pongo a.mean() que computa el valor medio de todas las entradas que no son nan de esa columna. Ese valor es 7.8, el cual se completa en todas las entradas que tienen nan.\n",
        "\n",
        "Es lógico preguntarse si esto es lógico: en realidad, nos gustaría reemplazar el nan de la columna 'segundo parcial' por un promedio de los valores de esa columna, no de 'primer parcial'.\n",
        "\n"
      ]
    },
    {
      "cell_type": "code",
      "metadata": {
        "id": "ZvmlUKhbuF2T",
        "colab": {
          "base_uri": "https://localhost:8080/"
        },
        "outputId": "db7f4748-5cb6-4924-af45-89bacdbfe1a0"
      },
      "source": [
        "a = df['primer parcial']\n",
        "b = df['segundo parcial']\n",
        "fill_dict = {'primer parcial':a.mean(), 'segundo parcial':b.mean()}\n",
        "df_4 = df.fillna(fill_dict)\n",
        "print(df_4)"
      ],
      "execution_count": 19,
      "outputs": [
        {
          "output_type": "stream",
          "name": "stdout",
          "text": [
            "            alumno  primer parcial  segundo parcial observaciones       DNI\n",
            "0           Zutano             7.0             10.0       ninguna  23000000\n",
            "1          Mengano             8.0              9.0         libre  12389100\n",
            "2           Zutano             7.0             10.0       ninguna  23000000\n",
            "3             Pepe             7.0              4.0       ninguna     99999\n",
            "4  Fulanito, Cosme             7.8             10.0         libre      1001\n",
            "5            Maria            10.0              8.6        oyente  30406011\n"
          ]
        }
      ]
    },
    {
      "cell_type": "markdown",
      "metadata": {
        "id": "Kw691Ygtutk3"
      },
      "source": [
        "Vemos que ahora usa valores diferentes para completar los nan de cada columna (7.8 y 8.6). La forma de hacerlo es pasarle un diccionario donde las llaves indican las columnas y los valores, por lo que debe ser reemplazado el nan.\n",
        "\n",
        "Obviamente el valor medio únicamente tiene sentido para datos numéricos, pero podemos reemplazar los datos de otras formas si los datos son no numéricos (por ejemplo, por la entrada más frecuente).\n",
        "\n",
        "Puede que querramos filtrar los datos mediante algún criterio distinto, por ejemplo, retener únicamente a los alumnos libres, o bien a aquellos cuyo primer parcial fue mayor a 7.\n",
        "\n",
        "Una forma sencilla es iterar el índice, y eliminar las filas que no cumplan con la condición dada.\n",
        "\n"
      ]
    },
    {
      "cell_type": "code",
      "metadata": {
        "id": "kmRGgh3gzYy6",
        "colab": {
          "base_uri": "https://localhost:8080/"
        },
        "outputId": "4ad12afe-b444-4668-d675-f79a4056aa05"
      },
      "source": [
        "datos = {'alumno': ['Zutano', 'Mengano', 'Zutano','Pepe' ,'Fulanito, Cosme', 'Maria'], 'primer parcial': [7, 8,7,7,np.nan, 10], 'segundo parcial': [10,9,10,4,10,np.nan], 'observaciones':['ninguna','libre','ninguna','ninguna','libre','oyente'], 'DNI':[23000000, 12389100,23000000, 99999, 1001,30406011]}\n",
        "df = pd.DataFrame(datos)\n",
        "\n",
        "for x in df.index:\n",
        "  if not df.loc[x, \"observaciones\"] == 'libre':\n",
        "    df.drop(x, inplace = True)\n",
        "print(df)\n",
        "\n",
        "datos = {'alumno': ['Zutano', 'Mengano', 'Zutano','Pepe' ,'Fulanito, Cosme', 'Maria'], 'primer parcial': [7, 8,7,7,np.nan, 10], 'segundo parcial': [10,9,10,4,10,np.nan], 'observaciones':['ninguna','libre','ninguna','ninguna','libre','oyente'], 'DNI':[23000000, 12389100,23000000, 99999, 1001,30406011]}\n",
        "df = pd.DataFrame(datos)\n",
        "\n",
        "df_libre = df[df['observaciones']=='libre']\n",
        "print(df_libre)\n",
        "\n",
        "\n",
        "datos = {'alumno': ['Zutano', 'Mengano', 'Zutano','Pepe' ,'Fulanito, Cosme', 'Maria'], 'primer parcial': [7, 8,7,7,np.nan, 10], 'segundo parcial': [10,9,10,4,10,np.nan], 'observaciones':['ninguna','libre','ninguna','ninguna','libre','oyente'], 'DNI':[23000000, 12389100,23000000, 99999, 1001,30406011]}\n",
        "df = pd.DataFrame(datos)\n",
        "\n",
        "for x in df.index:\n",
        "  if df.loc[x, \"primer parcial\"] <= 7:\n",
        "    df.drop(x, inplace = True)\n",
        "print(df)\n",
        "\n",
        "\n",
        "\n",
        "\n"
      ],
      "execution_count": 21,
      "outputs": [
        {
          "output_type": "stream",
          "name": "stdout",
          "text": [
            "            alumno  primer parcial  segundo parcial observaciones       DNI\n",
            "1          Mengano             8.0              9.0         libre  12389100\n",
            "4  Fulanito, Cosme             NaN             10.0         libre      1001\n",
            "            alumno  primer parcial  segundo parcial observaciones       DNI\n",
            "1          Mengano             8.0              9.0         libre  12389100\n",
            "4  Fulanito, Cosme             NaN             10.0         libre      1001\n",
            "            alumno  primer parcial  segundo parcial observaciones       DNI\n",
            "1          Mengano             8.0              9.0         libre  12389100\n",
            "4  Fulanito, Cosme             NaN             10.0         libre      1001\n",
            "5            Maria            10.0              NaN        oyente  30406011\n"
          ]
        }
      ]
    },
    {
      "cell_type": "markdown",
      "metadata": {
        "id": "2eVKAvLlz5Y9"
      },
      "source": [
        "Por último, puede que querramos remover duplicados. La forma más sencilla de hacerlo es con el método drop_duplicates()"
      ]
    },
    {
      "cell_type": "code",
      "metadata": {
        "id": "zKPTmDS2znlv",
        "colab": {
          "base_uri": "https://localhost:8080/"
        },
        "outputId": "60509cb9-d9f8-4159-a34c-df3421653178"
      },
      "source": [
        "datos = {'alumno': ['Zutano', 'Mengano', 'Zutano','Pepe' ,'Fulanito, Cosme', 'Maria'], 'primer parcial': [7, 8,7,7,np.nan, 10], 'segundo parcial': [10,9,10,4,10,np.nan], 'observaciones':['ninguna','libre','ninguna','ninguna','libre','oyente'], 'DNI':[23000000, 12389100,23000000, 99999, 1001,30406011]}\n",
        "df = pd.DataFrame(datos)\n",
        "print(df)\n",
        "df_2 = df.drop_duplicates()\n",
        "print(df_2)"
      ],
      "execution_count": 22,
      "outputs": [
        {
          "output_type": "stream",
          "name": "stdout",
          "text": [
            "            alumno  primer parcial  segundo parcial observaciones       DNI\n",
            "0           Zutano             7.0             10.0       ninguna  23000000\n",
            "1          Mengano             8.0              9.0         libre  12389100\n",
            "2           Zutano             7.0             10.0       ninguna  23000000\n",
            "3             Pepe             7.0              4.0       ninguna     99999\n",
            "4  Fulanito, Cosme             NaN             10.0         libre      1001\n",
            "5            Maria            10.0              NaN        oyente  30406011\n",
            "            alumno  primer parcial  segundo parcial observaciones       DNI\n",
            "0           Zutano             7.0             10.0       ninguna  23000000\n",
            "1          Mengano             8.0              9.0         libre  12389100\n",
            "3             Pepe             7.0              4.0       ninguna     99999\n",
            "4  Fulanito, Cosme             NaN             10.0         libre      1001\n",
            "5            Maria            10.0              NaN        oyente  30406011\n"
          ]
        }
      ]
    },
    {
      "cell_type": "markdown",
      "metadata": {
        "id": "W2OLYdkU0THK"
      },
      "source": [
        "Algunas de los métodos que podemos aplicar a los dataframe son útiles para tener una idea de los valores de una columna sin tener que hacer demasiado trabajo. Esto es lo que podemos hacer con value_counts(), que nos devuelve todos los valores que toman las entradas de la columna, y la cantidad de veces que ocurren."
      ]
    },
    {
      "cell_type": "code",
      "metadata": {
        "id": "pIptHyms1UU_",
        "colab": {
          "base_uri": "https://localhost:8080/"
        },
        "outputId": "35c52933-3411-40f9-a0dc-09c5f35b7024"
      },
      "source": [
        "df['observaciones'].value_counts()"
      ],
      "execution_count": null,
      "outputs": [
        {
          "output_type": "execute_result",
          "data": {
            "text/plain": [
              "ninguna    3\n",
              "libre      2\n",
              "oyente     1\n",
              "Name: observaciones, dtype: int64"
            ]
          },
          "metadata": {},
          "execution_count": 19
        }
      ]
    },
    {
      "cell_type": "markdown",
      "metadata": {
        "id": "XpkXfFcp1WEq"
      },
      "source": [
        "Lo último que vamos a ver en este Notebook es cómo combinar dos o más dataframes en uno solo.\n",
        "\n",
        "La forma más sencilla es hacer append de un dataframe a otro, ambos con las mismas columnas."
      ]
    },
    {
      "cell_type": "code",
      "metadata": {
        "id": "jMdaUlMp1tGA",
        "colab": {
          "base_uri": "https://localhost:8080/"
        },
        "outputId": "cde53475-1b09-498b-e70c-08f720449d88"
      },
      "source": [
        "datos_1 = {'alumno': ['Zutano', 'Mengano', 'Zutano','Pepe' ,'Fulanito, Cosme', 'Maria'], 'primer parcial': [7, 8,7,7,np.nan, 10], 'segundo parcial': [10,9,10,4,10,np.nan], 'observaciones':['ninguna','libre','ninguna','ninguna','libre','oyente'], 'DNI':[23000000, 12389100,23000000, 99999, 1001,30406011]}\n",
        "df_1 = pd.DataFrame(datos_1)\n",
        "\n",
        "datos_2 = {'alumno': ['Diego', 'Flor', 'José'], 'primer parcial': [10,10,8], 'segundo parcial': [8,8,8], 'observaciones':['ninguna','libre','libre'], 'DNI':[23299, 1043101,4406533]}\n",
        "df_2 = pd.DataFrame(datos_2)\n",
        "\n",
        "df_3 = df_1.append(df_2)\n",
        "print(df_3)\n",
        "\n",
        "\n",
        "\n"
      ],
      "execution_count": 25,
      "outputs": [
        {
          "output_type": "stream",
          "name": "stdout",
          "text": [
            "            alumno  primer parcial  segundo parcial observaciones       DNI\n",
            "0           Zutano             7.0             10.0       ninguna  23000000\n",
            "1          Mengano             8.0              9.0         libre  12389100\n",
            "2           Zutano             7.0             10.0       ninguna  23000000\n",
            "3             Pepe             7.0              4.0       ninguna     99999\n",
            "4  Fulanito, Cosme             NaN             10.0         libre      1001\n",
            "5            Maria            10.0              NaN        oyente  30406011\n",
            "0            Diego            10.0              8.0       ninguna     23299\n",
            "1             Flor            10.0              8.0         libre   1043101\n",
            "2             José             8.0              8.0         libre   4406533\n"
          ]
        },
        {
          "output_type": "stream",
          "name": "stderr",
          "text": [
            "<ipython-input-25-43328629e2a5>:7: FutureWarning: The frame.append method is deprecated and will be removed from pandas in a future version. Use pandas.concat instead.\n",
            "  df_3 = df_1.append(df_2)\n"
          ]
        }
      ]
    },
    {
      "cell_type": "markdown",
      "metadata": {
        "id": "kL1oY7b42N0B"
      },
      "source": [
        "Vemos que esto tiene un potencial problema: aparecen filas que tienen el mismo valor del índice, lo cual puede complicar localizarlas.\n",
        "\n",
        "Para resolver este problema, podemos usar pd.concat de la siguiente forma:"
      ]
    },
    {
      "cell_type": "code",
      "source": [
        "df_3 = df_1.append(df_2, ignore_index=True)\n",
        "print(df_3)\n",
        "\n",
        "df_4 = df_3.reindex(index=list(range(1,len(df_3))))\n",
        "df_4"
      ],
      "metadata": {
        "colab": {
          "base_uri": "https://localhost:8080/",
          "height": 529
        },
        "id": "_umcoLUhkhBj",
        "outputId": "f82369ef-96d6-4a45-b831-1000e3b66472"
      },
      "execution_count": 26,
      "outputs": [
        {
          "output_type": "stream",
          "name": "stdout",
          "text": [
            "            alumno  primer parcial  segundo parcial observaciones       DNI\n",
            "0           Zutano             7.0             10.0       ninguna  23000000\n",
            "1          Mengano             8.0              9.0         libre  12389100\n",
            "2           Zutano             7.0             10.0       ninguna  23000000\n",
            "3             Pepe             7.0              4.0       ninguna     99999\n",
            "4  Fulanito, Cosme             NaN             10.0         libre      1001\n",
            "5            Maria            10.0              NaN        oyente  30406011\n",
            "6            Diego            10.0              8.0       ninguna     23299\n",
            "7             Flor            10.0              8.0         libre   1043101\n",
            "8             José             8.0              8.0         libre   4406533\n"
          ]
        },
        {
          "output_type": "stream",
          "name": "stderr",
          "text": [
            "<ipython-input-26-f3a0fbf1ca79>:1: FutureWarning: The frame.append method is deprecated and will be removed from pandas in a future version. Use pandas.concat instead.\n",
            "  df_3 = df_1.append(df_2, ignore_index=True)\n"
          ]
        },
        {
          "output_type": "execute_result",
          "data": {
            "text/plain": [
              "            alumno  primer parcial  segundo parcial observaciones       DNI\n",
              "1          Mengano             8.0              9.0         libre  12389100\n",
              "2           Zutano             7.0             10.0       ninguna  23000000\n",
              "3             Pepe             7.0              4.0       ninguna     99999\n",
              "4  Fulanito, Cosme             NaN             10.0         libre      1001\n",
              "5            Maria            10.0              NaN        oyente  30406011\n",
              "6            Diego            10.0              8.0       ninguna     23299\n",
              "7             Flor            10.0              8.0         libre   1043101\n",
              "8             José             8.0              8.0         libre   4406533"
            ],
            "text/html": [
              "\n",
              "  <div id=\"df-e28249bc-708f-4910-b507-ada5a46a8db0\">\n",
              "    <div class=\"colab-df-container\">\n",
              "      <div>\n",
              "<style scoped>\n",
              "    .dataframe tbody tr th:only-of-type {\n",
              "        vertical-align: middle;\n",
              "    }\n",
              "\n",
              "    .dataframe tbody tr th {\n",
              "        vertical-align: top;\n",
              "    }\n",
              "\n",
              "    .dataframe thead th {\n",
              "        text-align: right;\n",
              "    }\n",
              "</style>\n",
              "<table border=\"1\" class=\"dataframe\">\n",
              "  <thead>\n",
              "    <tr style=\"text-align: right;\">\n",
              "      <th></th>\n",
              "      <th>alumno</th>\n",
              "      <th>primer parcial</th>\n",
              "      <th>segundo parcial</th>\n",
              "      <th>observaciones</th>\n",
              "      <th>DNI</th>\n",
              "    </tr>\n",
              "  </thead>\n",
              "  <tbody>\n",
              "    <tr>\n",
              "      <th>1</th>\n",
              "      <td>Mengano</td>\n",
              "      <td>8.0</td>\n",
              "      <td>9.0</td>\n",
              "      <td>libre</td>\n",
              "      <td>12389100</td>\n",
              "    </tr>\n",
              "    <tr>\n",
              "      <th>2</th>\n",
              "      <td>Zutano</td>\n",
              "      <td>7.0</td>\n",
              "      <td>10.0</td>\n",
              "      <td>ninguna</td>\n",
              "      <td>23000000</td>\n",
              "    </tr>\n",
              "    <tr>\n",
              "      <th>3</th>\n",
              "      <td>Pepe</td>\n",
              "      <td>7.0</td>\n",
              "      <td>4.0</td>\n",
              "      <td>ninguna</td>\n",
              "      <td>99999</td>\n",
              "    </tr>\n",
              "    <tr>\n",
              "      <th>4</th>\n",
              "      <td>Fulanito, Cosme</td>\n",
              "      <td>NaN</td>\n",
              "      <td>10.0</td>\n",
              "      <td>libre</td>\n",
              "      <td>1001</td>\n",
              "    </tr>\n",
              "    <tr>\n",
              "      <th>5</th>\n",
              "      <td>Maria</td>\n",
              "      <td>10.0</td>\n",
              "      <td>NaN</td>\n",
              "      <td>oyente</td>\n",
              "      <td>30406011</td>\n",
              "    </tr>\n",
              "    <tr>\n",
              "      <th>6</th>\n",
              "      <td>Diego</td>\n",
              "      <td>10.0</td>\n",
              "      <td>8.0</td>\n",
              "      <td>ninguna</td>\n",
              "      <td>23299</td>\n",
              "    </tr>\n",
              "    <tr>\n",
              "      <th>7</th>\n",
              "      <td>Flor</td>\n",
              "      <td>10.0</td>\n",
              "      <td>8.0</td>\n",
              "      <td>libre</td>\n",
              "      <td>1043101</td>\n",
              "    </tr>\n",
              "    <tr>\n",
              "      <th>8</th>\n",
              "      <td>José</td>\n",
              "      <td>8.0</td>\n",
              "      <td>8.0</td>\n",
              "      <td>libre</td>\n",
              "      <td>4406533</td>\n",
              "    </tr>\n",
              "  </tbody>\n",
              "</table>\n",
              "</div>\n",
              "      <button class=\"colab-df-convert\" onclick=\"convertToInteractive('df-e28249bc-708f-4910-b507-ada5a46a8db0')\"\n",
              "              title=\"Convert this dataframe to an interactive table.\"\n",
              "              style=\"display:none;\">\n",
              "        \n",
              "  <svg xmlns=\"http://www.w3.org/2000/svg\" height=\"24px\"viewBox=\"0 0 24 24\"\n",
              "       width=\"24px\">\n",
              "    <path d=\"M0 0h24v24H0V0z\" fill=\"none\"/>\n",
              "    <path d=\"M18.56 5.44l.94 2.06.94-2.06 2.06-.94-2.06-.94-.94-2.06-.94 2.06-2.06.94zm-11 1L8.5 8.5l.94-2.06 2.06-.94-2.06-.94L8.5 2.5l-.94 2.06-2.06.94zm10 10l.94 2.06.94-2.06 2.06-.94-2.06-.94-.94-2.06-.94 2.06-2.06.94z\"/><path d=\"M17.41 7.96l-1.37-1.37c-.4-.4-.92-.59-1.43-.59-.52 0-1.04.2-1.43.59L10.3 9.45l-7.72 7.72c-.78.78-.78 2.05 0 2.83L4 21.41c.39.39.9.59 1.41.59.51 0 1.02-.2 1.41-.59l7.78-7.78 2.81-2.81c.8-.78.8-2.07 0-2.86zM5.41 20L4 18.59l7.72-7.72 1.47 1.35L5.41 20z\"/>\n",
              "  </svg>\n",
              "      </button>\n",
              "      \n",
              "  <style>\n",
              "    .colab-df-container {\n",
              "      display:flex;\n",
              "      flex-wrap:wrap;\n",
              "      gap: 12px;\n",
              "    }\n",
              "\n",
              "    .colab-df-convert {\n",
              "      background-color: #E8F0FE;\n",
              "      border: none;\n",
              "      border-radius: 50%;\n",
              "      cursor: pointer;\n",
              "      display: none;\n",
              "      fill: #1967D2;\n",
              "      height: 32px;\n",
              "      padding: 0 0 0 0;\n",
              "      width: 32px;\n",
              "    }\n",
              "\n",
              "    .colab-df-convert:hover {\n",
              "      background-color: #E2EBFA;\n",
              "      box-shadow: 0px 1px 2px rgba(60, 64, 67, 0.3), 0px 1px 3px 1px rgba(60, 64, 67, 0.15);\n",
              "      fill: #174EA6;\n",
              "    }\n",
              "\n",
              "    [theme=dark] .colab-df-convert {\n",
              "      background-color: #3B4455;\n",
              "      fill: #D2E3FC;\n",
              "    }\n",
              "\n",
              "    [theme=dark] .colab-df-convert:hover {\n",
              "      background-color: #434B5C;\n",
              "      box-shadow: 0px 1px 3px 1px rgba(0, 0, 0, 0.15);\n",
              "      filter: drop-shadow(0px 1px 2px rgba(0, 0, 0, 0.3));\n",
              "      fill: #FFFFFF;\n",
              "    }\n",
              "  </style>\n",
              "\n",
              "      <script>\n",
              "        const buttonEl =\n",
              "          document.querySelector('#df-e28249bc-708f-4910-b507-ada5a46a8db0 button.colab-df-convert');\n",
              "        buttonEl.style.display =\n",
              "          google.colab.kernel.accessAllowed ? 'block' : 'none';\n",
              "\n",
              "        async function convertToInteractive(key) {\n",
              "          const element = document.querySelector('#df-e28249bc-708f-4910-b507-ada5a46a8db0');\n",
              "          const dataTable =\n",
              "            await google.colab.kernel.invokeFunction('convertToInteractive',\n",
              "                                                     [key], {});\n",
              "          if (!dataTable) return;\n",
              "\n",
              "          const docLinkHtml = 'Like what you see? Visit the ' +\n",
              "            '<a target=\"_blank\" href=https://colab.research.google.com/notebooks/data_table.ipynb>data table notebook</a>'\n",
              "            + ' to learn more about interactive tables.';\n",
              "          element.innerHTML = '';\n",
              "          dataTable['output_type'] = 'display_data';\n",
              "          await google.colab.output.renderOutput(dataTable, element);\n",
              "          const docLink = document.createElement('div');\n",
              "          docLink.innerHTML = docLinkHtml;\n",
              "          element.appendChild(docLink);\n",
              "        }\n",
              "      </script>\n",
              "    </div>\n",
              "  </div>\n",
              "  "
            ]
          },
          "metadata": {},
          "execution_count": 26
        }
      ]
    },
    {
      "cell_type": "code",
      "metadata": {
        "id": "w596sOPD2oz7",
        "colab": {
          "base_uri": "https://localhost:8080/"
        },
        "outputId": "c3cc1601-9340-4195-afe6-f06b9dd4e59a"
      },
      "source": [
        "df_3 = pd.concat( (df_1,df_2), axis=0, join=\"outer\", ignore_index=True)\n",
        "print(df_3)"
      ],
      "execution_count": 27,
      "outputs": [
        {
          "output_type": "stream",
          "name": "stdout",
          "text": [
            "            alumno  primer parcial  segundo parcial observaciones       DNI\n",
            "0           Zutano             7.0             10.0       ninguna  23000000\n",
            "1          Mengano             8.0              9.0         libre  12389100\n",
            "2           Zutano             7.0             10.0       ninguna  23000000\n",
            "3             Pepe             7.0              4.0       ninguna     99999\n",
            "4  Fulanito, Cosme             NaN             10.0         libre      1001\n",
            "5            Maria            10.0              NaN        oyente  30406011\n",
            "6            Diego            10.0              8.0       ninguna     23299\n",
            "7             Flor            10.0              8.0         libre   1043101\n",
            "8             José             8.0              8.0         libre   4406533\n"
          ]
        }
      ]
    },
    {
      "cell_type": "markdown",
      "metadata": {
        "id": "YYuVbqEx26GD"
      },
      "source": [
        "Vemos cómo en este caso el índice se reinicia empezando desde 0. Por supuesto, como vimos antes, siempre podemos reindexar usando otra columna que sirva a ese propósito (el DNI sería la mejor opción).\n",
        "\n",
        "El proceso de unir o mergear dos dataframes con distintas columnas es familiar para aquellos con alguna experiencia en SQL. Supongamos que tenemos este dataframe reindexado por el DNI:"
      ]
    },
    {
      "cell_type": "code",
      "metadata": {
        "id": "japG6d3z3XQU",
        "colab": {
          "base_uri": "https://localhost:8080/"
        },
        "outputId": "316d34d2-7272-4cec-a4dd-cfa9a00a1a3b"
      },
      "source": [
        "df_DNI = df_3.set_index('DNI')\n",
        "print(df_DNI)"
      ],
      "execution_count": 28,
      "outputs": [
        {
          "output_type": "stream",
          "name": "stdout",
          "text": [
            "                   alumno  primer parcial  segundo parcial observaciones\n",
            "DNI                                                                     \n",
            "23000000           Zutano             7.0             10.0       ninguna\n",
            "12389100          Mengano             8.0              9.0         libre\n",
            "23000000           Zutano             7.0             10.0       ninguna\n",
            "99999                Pepe             7.0              4.0       ninguna\n",
            "1001      Fulanito, Cosme             NaN             10.0         libre\n",
            "30406011            Maria            10.0              NaN        oyente\n",
            "23299               Diego            10.0              8.0       ninguna\n",
            "1043101              Flor            10.0              8.0         libre\n",
            "4406533              José             8.0              8.0         libre\n"
          ]
        }
      ]
    },
    {
      "cell_type": "markdown",
      "metadata": {
        "id": "Q1901UnB3fbg"
      },
      "source": [
        "Supongamos que tenemos además otro dataframe indexado por el el DNI, con algún solapamiento parcial con este dataset."
      ]
    },
    {
      "cell_type": "code",
      "metadata": {
        "id": "JyrVnWRW3l5t",
        "colab": {
          "base_uri": "https://localhost:8080/"
        },
        "outputId": "0ac88f61-bafa-4e41-8fe1-763d212e8e68"
      },
      "source": [
        "datos_1 = {'alumno': ['Roberto', 'Mengano', 'Carlos','Marisol' ,'Fulanito, Cosme'], 'cuota al día': ['sí','sí','no','no','sí'], 'año que cursa': [2, 2, 2, 1, 4]}\n",
        "df_1 = pd.DataFrame(datos_1, index=[3934444, 12389100, 2939393, 10102394,1001])\n",
        "print(df_1)"
      ],
      "execution_count": 30,
      "outputs": [
        {
          "output_type": "stream",
          "name": "stdout",
          "text": [
            "                   alumno cuota al día  año que cursa\n",
            "3934444           Roberto           sí              2\n",
            "12389100          Mengano           sí              2\n",
            "2939393            Carlos           no              2\n",
            "10102394          Marisol           no              1\n",
            "1001      Fulanito, Cosme           sí              4\n"
          ]
        }
      ]
    },
    {
      "cell_type": "markdown",
      "metadata": {
        "id": "rrB84xGz4Pqm"
      },
      "source": [
        "Yo puedo querer combinar toda esta información en una misma tabla, de forma tal que el índice determine cómo se unen las filas.\n"
      ]
    },
    {
      "cell_type": "code",
      "metadata": {
        "colab": {
          "base_uri": "https://localhost:8080/"
        },
        "id": "Q6ymex0T4chv",
        "outputId": "1ab2e182-d07f-4302-f616-330f9d683e2e"
      },
      "source": [
        "pd.options.display.max_rows = 100 \n",
        "pd.options.display.max_columns = 100\n",
        "df_all = pd.merge(df_DNI,df_1, how=\"inner\")\n",
        "print(df_all)"
      ],
      "execution_count": 32,
      "outputs": [
        {
          "output_type": "stream",
          "name": "stdout",
          "text": [
            "            alumno  primer parcial  segundo parcial observaciones  \\\n",
            "0          Mengano             8.0              9.0         libre   \n",
            "1  Fulanito, Cosme             NaN             10.0         libre   \n",
            "\n",
            "  cuota al día  año que cursa  \n",
            "0           sí              2  \n",
            "1           sí              4  \n"
          ]
        }
      ]
    },
    {
      "cell_type": "markdown",
      "metadata": {
        "id": "1Iri43_b49Xw"
      },
      "source": [
        "Lamentablemente la matriz tiene muchas filas y columnas como para visualizarla, pero podemos modificar esto y volver a probar.\n"
      ]
    },
    {
      "cell_type": "code",
      "metadata": {
        "id": "8Cip9qN_4-DG",
        "colab": {
          "base_uri": "https://localhost:8080/"
        },
        "outputId": "749214ab-89e3-49c4-df0c-c9119fb08a8a"
      },
      "source": [
        "pd.options.display.max_rows = 100 \n",
        "pd.options.display.max_columns = 100\n",
        "print(df_all) "
      ],
      "execution_count": 33,
      "outputs": [
        {
          "output_type": "stream",
          "name": "stdout",
          "text": [
            "            alumno  primer parcial  segundo parcial observaciones  \\\n",
            "0          Mengano             8.0              9.0         libre   \n",
            "1  Fulanito, Cosme             NaN             10.0         libre   \n",
            "\n",
            "  cuota al día  año que cursa  \n",
            "0           sí              2  \n",
            "1           sí              4  \n"
          ]
        }
      ]
    },
    {
      "cell_type": "markdown",
      "metadata": {
        "id": "ujXljSg85SMd"
      },
      "source": [
        "Vemos que el merge unión a los que estaban en la intersección de ambos dataframes. Esto cambia a la únion si modificamos inner por outer:"
      ]
    },
    {
      "cell_type": "code",
      "metadata": {
        "id": "9GT8U4AG5cS7",
        "colab": {
          "base_uri": "https://localhost:8080/"
        },
        "outputId": "cb9b6000-dc7a-4b54-ea4c-aa881e1b234d"
      },
      "source": [
        "df_all = pd.merge(df_DNI,df_1, how=\"outer\")\n",
        "print(df_all)"
      ],
      "execution_count": 34,
      "outputs": [
        {
          "output_type": "stream",
          "name": "stdout",
          "text": [
            "             alumno  primer parcial  segundo parcial observaciones  \\\n",
            "0            Zutano             7.0             10.0       ninguna   \n",
            "1            Zutano             7.0             10.0       ninguna   \n",
            "2           Mengano             8.0              9.0         libre   \n",
            "3              Pepe             7.0              4.0       ninguna   \n",
            "4   Fulanito, Cosme             NaN             10.0         libre   \n",
            "5             Maria            10.0              NaN        oyente   \n",
            "6             Diego            10.0              8.0       ninguna   \n",
            "7              Flor            10.0              8.0         libre   \n",
            "8              José             8.0              8.0         libre   \n",
            "9           Roberto             NaN              NaN           NaN   \n",
            "10           Carlos             NaN              NaN           NaN   \n",
            "11          Marisol             NaN              NaN           NaN   \n",
            "\n",
            "   cuota al día  año que cursa  \n",
            "0           NaN            NaN  \n",
            "1           NaN            NaN  \n",
            "2            sí            2.0  \n",
            "3           NaN            NaN  \n",
            "4            sí            4.0  \n",
            "5           NaN            NaN  \n",
            "6           NaN            NaN  \n",
            "7           NaN            NaN  \n",
            "8           NaN            NaN  \n",
            "9            sí            2.0  \n",
            "10           no            2.0  \n",
            "11           no            1.0  \n"
          ]
        }
      ]
    },
    {
      "cell_type": "markdown",
      "metadata": {
        "id": "N70MtX-T5k7-"
      },
      "source": [
        "En este caso, rellena con nan donde no hay información."
      ]
    }
  ]
}