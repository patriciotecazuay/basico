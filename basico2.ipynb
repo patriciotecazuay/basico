{
 "cells": [
  {
   "cell_type": "code",
   "execution_count": null,
   "metadata": {
    "collapsed": true,
    "colab": {
     "base_uri": "https://localhost:8080/"
    },
    "id": "MO0JEIF-ITCR",
    "outputId": "6c5418b8-35af-4e8e-c41c-2595f07fd2b8"
   },
   "outputs": [
    {
     "output_type": "stream",
     "name": "stdout",
     "text": [
      "Hola Dos tres\n"
     ]
    }
   ],
   "source": [
    "print(\"Hola Dos tres cuatro cinco\")"
   ]
  },
  {
   "cell_type": "raw",
   "source": [
    "Código inicial para Aprendizaje de Máquina.\n",
    "Este es una prueba"
   ],
   "metadata": {
    "collapsed": false
   }
  },
  {
   "cell_type": "markdown",
   "source": [
    "### CURSO PYTHON BASICO ###\n",
    "### Variables ###\n",
    "\n",
    "my_string_variable = \"My String varriable\"\n",
    "print(my_string_variable)\n",
    "\n",
    "my_int_variable = 5\n",
    "print(my_int_variable)\n",
    "\n",
    "my_int_to_str_variable = str(my_int_variable)\n",
    "print(my_int_to_str_variable)\n",
    "print(type(my_int_to_str_variable))\n",
    "\n",
    "my_bool_variable = False\n",
    "print(my_bool_variable)\n",
    "\n",
    "# Concatenación de variables en un print\n",
    "print(my_string_variable, my_int_to_str_variable, my_bool_variable)\n",
    "print(\"Este es el valor de:\", my_bool_variable)\n",
    "\n",
    "# Algunas funciones del sistema\n",
    "print(len(my_string_variable))\n",
    "\n",
    "# Variables en una sola línea. ¡Cuidado con abusar de esta sintaxis!\n",
    "name, surname, alias, age = \"Brais\", \"Moure\", 'MoureDev', 35\n",
    "print(\"Me llamo:\", name, surname, \". Mi edad es:\", age, \". Y mi alias es:\", alias)\n",
    "\n",
    "# Inputs\n",
    "name = input('¿Cuál es tu nombre? ')\n",
    "age = input('¿Cuántos años tienes? ')\n",
    "print(name)\n",
    "print(age)\n",
    "\n",
    "# Cambiamos su tipo\n",
    "name = 35\n",
    "age = \"Brais\"\n",
    "print(name)\n",
    "print(age)\n",
    "\n",
    "# ¿Forzamos el tipo?\n",
    "address: str = \"Mi dirección\"\n",
    "address = True\n",
    "address = 5\n",
    "address = 1.2\n",
    "print(type(address))"
   ],
   "metadata": {
    "collapsed": false
   }
  },
  {
   "cell_type": "code",
   "execution_count": null,
   "outputs": [],
   "source": [],
   "metadata": {
    "id": "TJz7Cm76KTbC"
   }
  }
 ],
 "metadata": {
  "kernelspec": {
   "display_name": "Python 3",
   "language": "python",
   "name": "python3"
  },
  "language_info": {
   "codemirror_mode": {
    "name": "ipython",
    "version": 2
   },
   "file_extension": ".py",
   "mimetype": "text/x-python",
   "name": "python",
   "nbconvert_exporter": "python",
   "pygments_lexer": "ipython2",
   "version": "2.7.6"
  },
  "colab": {
   "provenance": []
  }
 },
 "nbformat": 4,
 "nbformat_minor": 0
}
